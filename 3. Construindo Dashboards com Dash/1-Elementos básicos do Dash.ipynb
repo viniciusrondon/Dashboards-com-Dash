{
 "cells": [
  {
   "cell_type": "markdown",
   "metadata": {},
   "source": [
    "___"
   ]
  },
  {
   "cell_type": "markdown",
   "metadata": {},
   "source": [
    "## Layout Dash\n",
    "\n",
    "Os aplicativos escritos com Dash contém dois elementos básicos. A primeira parte, o `Layout` descreve a forma como tudo será disposto no app; a segunda parte especifica a interatividade do app.\n",
    "\n",
    "O Dash nos entrega duas classes para a criação de elementos visuais: `dash_core_components` e `dash_html_components`. Aprenderemos mais detalhes das duas na prática."
   ]
  },
  {
   "cell_type": "code",
   "execution_count": null,
   "metadata": {},
   "outputs": [],
   "source": []
  }
 ],
 "metadata": {
  "kernelspec": {
   "display_name": "Python 3 (ipykernel)",
   "language": "python",
   "name": "python3"
  },
  "language_info": {
   "codemirror_mode": {
    "name": "ipython",
    "version": 3
   },
   "file_extension": ".py",
   "mimetype": "text/x-python",
   "name": "python",
   "nbconvert_exporter": "python",
   "pygments_lexer": "ipython3",
   "version": "3.9.10"
  }
 },
 "nbformat": 4,
 "nbformat_minor": 4
}
